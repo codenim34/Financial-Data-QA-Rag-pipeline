{
 "cells": [
  {
   "cell_type": "code",
   "execution_count": null,
   "id": "f9ddc88f",
   "metadata": {},
   "outputs": [
    {
     "name": "stdout",
     "output_type": "stream",
     "text": [
      "Current directory: e:\\Projects\\Financial-Data-QA-Rag-pipeline\\notebooks\n",
      "Source path added: e:\\Projects\\Financial-Data-QA-Rag-pipeline\\src\n",
      "Python path updated: True\n"
     ]
    }
   ],
   "source": [
    "# Import required libraries\n",
    "import sys\n",
    "import os\n",
    "from IPython.display import Markdown, display\n",
    "import textwrap\n",
    "from pathlib import Path\n",
    "import tempfile\n",
    "from typing import Dict, Any, List\n",
    "\n",
    "# Add the src directory to Python path\n",
    "current_dir = Path().absolute()\n",
    "src_path = current_dir.parent / 'src'\n",
    "sys.path.insert(0, str(src_path))\n",
    "\n",
    "print(f\"Current directory: {current_dir}\")\n",
    "print(f\"Source path added: {src_path}\")\n",
    "print(f\"Python path updated: {str(src_path) in sys.path}\")"
   ]
  },
  {
   "cell_type": "code",
   "execution_count": null,
   "id": "93d03fc1",
   "metadata": {},
   "outputs": [],
   "source": [
    "# Import our preprocessing module\n",
    "try:\n",
    "    from preprocessing import PDFPreprocessor, TextChunker, preprocess_financial_data\n",
    "    print(\"Successfully imported preprocessing modules!\")\n",
    "    print(\"Available classes:\")\n",
    "    print(\"- PDFPreprocessor: Main class for PDF processing\")\n",
    "    print(\"- TextChunker: Advanced text chunking utilities\")\n",
    "    print(\"- preprocess_financial_data: Convenience function\")\n",
    "except ImportError as e:\n",
    "    print(f\"Import error: {e}\")\n",
    "    print(\"Make sure the preprocessing.py file is in the src directory\")"
   ]
  },
  {
   "cell_type": "code",
   "execution_count": 4,
   "id": "bec08505",
   "metadata": {},
   "outputs": [
    {
     "name": "stdout",
     "output_type": "stream",
     "text": [
      "<preprocessing.PDFPreprocessor object at 0x000002216D59D070>\n"
     ]
    }
   ],
   "source": [
    "# initialize the PDFPreprocessor class\n",
    "pdfPreprocessor= PDFPreprocessor()\n",
    "print(pdfPreprocessor)"
   ]
  },
  {
   "cell_type": "code",
   "execution_count": null,
   "id": "380a0f76",
   "metadata": {},
   "outputs": [],
   "source": [
    "#extracting text from pdf\n",
    "text=pdfPreprocessor.extract_text_from_pdf(\"E:\\Projects\\Financial-Data-QA-Rag-pipeline\\data\\Meta’s Q1 2024 Financial Report.pdf\")\n",
    "display(Markdown(text))"
   ]
  },
  {
   "cell_type": "code",
   "execution_count": null,
   "id": "00aacf8d",
   "metadata": {},
   "outputs": [],
   "source": [
    "#cleaning text\n",
    "cleaned_text=pdfPreprocessor.clean_text(text)\n",
    "display(Markdown(cleaned_text))\n"
   ]
  },
  {
   "cell_type": "code",
   "execution_count": 13,
   "id": "18096064",
   "metadata": {},
   "outputs": [
    {
     "name": "stdout",
     "output_type": "stream",
     "text": [
      " TEXT COMPARISON - CHARACTER COUNTS\n",
      "==================================================\n",
      " Original text:     16,819 characters\n",
      " Cleaned text:      16,715 characters\n",
      "Characters removed: 104 characters\n",
      " Reduction:          0.62%\n"
     ]
    }
   ],
   "source": [
    "# Compare character counts between original and cleaned text\n",
    "print(\" TEXT COMPARISON - CHARACTER COUNTS\")\n",
    "print(\"=\" * 50)\n",
    "\n",
    "# Get character counts\n",
    "original_count = len(text)\n",
    "cleaned_count = len(cleaned_text)\n",
    "difference = original_count - cleaned_count\n",
    "reduction_percentage = (difference / original_count) * 100 if original_count > 0 else 0\n",
    "\n",
    "# Display comparison\n",
    "print(f\" Original text:     {original_count:,} characters\")\n",
    "print(f\" Cleaned text:      {cleaned_count:,} characters\")\n",
    "print(f\"Characters removed: {difference:,} characters\")\n",
    "print(f\" Reduction:          {reduction_percentage:.2f}%\")\n",
    "\n",
    "#"
   ]
  }
 ],
 "metadata": {
  "kernelspec": {
   "display_name": "Python 3",
   "language": "python",
   "name": "python3"
  },
  "language_info": {
   "codemirror_mode": {
    "name": "ipython",
    "version": 3
   },
   "file_extension": ".py",
   "mimetype": "text/x-python",
   "name": "python",
   "nbconvert_exporter": "python",
   "pygments_lexer": "ipython3",
   "version": "3.12.7"
  }
 },
 "nbformat": 4,
 "nbformat_minor": 5
}
